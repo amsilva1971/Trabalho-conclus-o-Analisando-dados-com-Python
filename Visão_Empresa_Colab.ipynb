{
  "nbformat": 4,
  "nbformat_minor": 0,
  "metadata": {
    "colab": {
      "provenance": [],
      "mount_file_id": "1l472sDOVLH1EMblCNCWQ3ocZy2MK_T7o",
      "authorship_tag": "ABX9TyOO9vcpG5ipFDsTyPK03M/W",
      "include_colab_link": true
    },
    "kernelspec": {
      "name": "python3",
      "display_name": "Python 3"
    },
    "language_info": {
      "name": "python"
    }
  },
  "cells": [
    {
      "cell_type": "markdown",
      "metadata": {
        "id": "view-in-github",
        "colab_type": "text"
      },
      "source": [
        "<a href=\"https://colab.research.google.com/github/amsilva1971/Trabalho-conclus-o-Analisando-dados-com-Python/blob/main/Vis%C3%A3o_Empresa_Colab.ipynb\" target=\"_parent\"><img src=\"https://colab.research.google.com/assets/colab-badge.svg\" alt=\"Open In Colab\"/></a>"
      ]
    },
    {
      "cell_type": "code",
      "execution_count": null,
      "metadata": {
        "id": "7HGh8qWFj9_c"
      },
      "outputs": [],
      "source": [
        "\n",
        "!pip install haversine\n",
        "!pip install streamlit-folium\n",
        "\n",
        "import datetime\n",
        "import pandas as pd\n",
        "import streamlit as st\n",
        "from PIL import Image\n",
        "from haversine import haversine\n",
        "import plotly.express as px\n",
        "import folium\n",
        "#from streamlit_folium import folium_static\n",
        "from streamlit_folium import folium_static\n",
        "import warnings\n",
        "warnings.filterwarnings(\"ignore\")\n",
        "\n",
        "\n",
        "\n",
        "\n",
        "st.set_page_config (page_title='Visão empresa', page_icon='', layout='wide')\n",
        "\n",
        "\n",
        "#-------Criando as funções/modularização--------#\n",
        "\n",
        "def limpeza (df):\n",
        "\n",
        "    df.loc[:, 'ID'] = df.loc[:, 'ID'].str.strip()\n",
        "    df.loc[:, 'Delivery_person_ID'] = df.loc[:, 'Delivery_person_ID'].str.strip()\n",
        "    df.loc[:, 'Road_traffic_density'] = df.loc[:, 'Road_traffic_density'].str.strip()\n",
        "    df.loc[:, 'Type_of_order'] = df.loc[:, 'Type_of_order'].str.strip()\n",
        "    df.loc[:, 'Type_of_vehicle'] = df.loc[:, 'Type_of_vehicle'].str.strip()\n",
        "    df.loc[:, 'Festival'] = df.loc[:, 'Festival'].str.strip()\n",
        "    df.loc[:, 'City'] = df.loc[:, 'City'].str.strip()\n",
        "\n",
        "    linhas_vazias = df['Time_taken(min)'] != 'NaN '\n",
        "    df = df.loc[linhas_vazias, :]\n",
        "    linhas_vazias = df['Time_taken(min)'] != 'NaN'\n",
        "    df = df.loc[linhas_vazias, :]\n",
        "    linhas_vazias = df['Vehicle_condition'] != 'NaN '\n",
        "    df = df.loc[linhas_vazias, :]\n",
        "    linhas_vazias = df['Vehicle_condition'] != 'NaN'\n",
        "    df = df.loc[linhas_vazias, :]\n",
        "    linhas_vazias = df['Delivery_person_Age'] != 'NaN '\n",
        "    df = df.loc[linhas_vazias, :]\n",
        "    linhas_vazias = df['Delivery_person_Ratings'] != 'NaN '\n",
        "    df = df.loc[linhas_vazias, :]\n",
        "    linhas_vazias = df['Road_traffic_density'] != 'NaN '\n",
        "    df = df.loc[linhas_vazias, :]\n",
        "    linhas_vazias = df['Road_traffic_density'] != 'NaN'\n",
        "    df = df.loc[linhas_vazias, :]\n",
        "    linhas_vazias = df['multiple_deliveries'] != 'NaN '\n",
        "    df = df.loc[linhas_vazias, :]\n",
        "    linhas_vazias = df['Festival'] != 'NaN '\n",
        "    df = df.loc[linhas_vazias, :]\n",
        "    linhas_vazias = df['City'] != 'NaN '\n",
        "    df = df.loc[linhas_vazias, :]\n",
        "    linhas_vazias = df['City'] != 'NaN'\n",
        "    df = df.loc[linhas_vazias, :]\n",
        "    linhas_vazias = df['Order_Date'] != 'NaN '\n",
        "    df = df.loc[linhas_vazias, :]\n",
        "\n",
        "    df['Delivery_person_Age'] = df['Delivery_person_Age'].astype( int )\n",
        "    df['Delivery_person_Ratings'] = df['Delivery_person_Ratings'].astype( float )\n",
        "    df['Order_Date'] = pd.to_datetime( df['Order_Date'], format = '%d-%m-%Y')\n",
        "    df ['Time_taken(min)'] = df ['Time_taken(min)'].apply (lambda x: x.split ('(min) ')[1])\n",
        "    df ['Time_taken(min)'] = df ['Time_taken(min)'].astype(int)\n",
        "\n",
        "    return df\n",
        "\n",
        "def pedidos_data (df):\n",
        "\n",
        "    pedidos = [ 'ID' , 'Order_Date']\n",
        "    pedidos1 = df.loc [: , pedidos].groupby(['Order_Date']). count().reset_index()\n",
        "    fig = px.bar (pedidos1 , x = 'Order_Date' , y = 'ID' )\n",
        "\n",
        "    return fig\n",
        "\n",
        "def pedidos_traf (df):\n",
        "    pedidos1 = [ 'ID' , 'Road_traffic_density']\n",
        "    pedidos1 = df.loc [: , pedidos1].groupby(['Road_traffic_density']). count().reset_index()\n",
        "    pedidos1 ['perc']=  pedidos1 ['ID'] / pedidos1 ['ID'].sum()\n",
        "    fig = px.pie (pedidos1 , values = 'perc' , names = 'Road_traffic_density' )\n",
        "\n",
        "    return fig\n",
        "\n",
        "def pedidos_traf_cidade (df):\n",
        "    pedidos1 = [ 'ID' , 'City', 'Road_traffic_density']\n",
        "    pedidos1 = df.loc [: , pedidos1].groupby(['Road_traffic_density', 'City']). count().reset_index()\n",
        "    fig = px.scatter (pedidos1 , x = 'City', y = 'Road_traffic_density' , size = 'ID', color = 'City')\n",
        "\n",
        "    return fig\n",
        "\n",
        "def pedidos_semana (df):\n",
        "    df ['Week'] = df ['Order_Date'] .dt.strftime ('%U')\n",
        "    pedidos = [ 'ID' , 'Week']\n",
        "    pedidos1 = df.loc [: , pedidos].groupby(['Week']). count().reset_index()\n",
        "    fig = px.line (pedidos1 , x = 'Week' , y = 'ID' )\n",
        "\n",
        "    return fig\n",
        "\n",
        "def pedidos_semana_entreg (df):\n",
        "    ped_sem = [ 'ID' , 'Week']\n",
        "    ped_entreg = ['Delivery_person_ID', 'Week']\n",
        "    pedidos2 = df.loc [: , ped_sem].groupby('Week'). count().reset_index()\n",
        "    pedidos3 = df.loc [: , ped_entreg].groupby(['Week']). nunique().reset_index()\n",
        "    pedidos4 = pd.merge (pedidos2, pedidos3, how='inner')\n",
        "    pedidos4 ['Pedidos por entregador na semana'] = pedidos4 ['ID'] / pedidos4 ['Delivery_person_ID']\n",
        "    fig = px.line (pedidos4 , x = 'Week', y = 'Pedidos por entregador na semana')\n",
        "\n",
        "    return fig\n",
        "\n",
        "def mapa (df):\n",
        "    #st_folium = folium_static\n",
        "    local_traf = df.loc [: , [\"Road_traffic_density\", \"City\",\"Delivery_location_latitude\", \"Delivery_location_longitude\"]].groupby(['Road_traffic_density', 'City']). median().reset_index()\n",
        "    map = folium.Map()\n",
        "\n",
        "    for index, location_info in local_traf.iterrows ():\n",
        "        folium.Marker ([location_info ['Delivery_location_latitude'],\n",
        "                        location_info ['Delivery_location_longitude']],\n",
        "                        popup = location_info [['City', 'Road_traffic_density']]). add_to (map)\n",
        "\n",
        "    folium_static (map, width=1024, height = 600)\n",
        "\n",
        "    return\n",
        "\n",
        "\n",
        "#-----------Iniciando a estrutura lógica------------------------------\n",
        "\n",
        "# Importando o dataframe \"train.csv\"\n",
        "df = pd.read_csv ('/content/drive/MyDrive/Colab Notebooks/train.csv')\n",
        "\n",
        "# Limpando o dataframe\n",
        "\n",
        "df = limpeza (df)\n",
        "\n",
        "\n",
        "#============================\n",
        "# Criando a barra lateral\n",
        "#============================\n",
        "\n",
        "# Importando o logotipo da empresa 'logo_delivery.png'\n",
        "arquivo='/content/drive/MyDrive/Colab Notebooks/logo_delivery.png'\n",
        "logo=Image.open (arquivo)\n",
        "st.sidebar.image (logo, width =120)\n",
        "\n",
        "st.sidebar.markdown ('# Cury Company')\n",
        "st.sidebar.markdown ('## Fastest delivery in town')\n",
        "st.sidebar.markdown ('--------')\n",
        "\n",
        "# Criando os filtros (inputs do usuário)\n",
        "date = st.sidebar.slider ('Selecione uma data limite', value=datetime.datetime (2022, 4, 13 ), min_value=datetime.datetime (2022, 2, 11 ), max_value=datetime.datetime (2022, 4, 6 ), format='DD-MM-YYYY' )\n",
        "\n",
        "trafic = st.sidebar.multiselect ('Selecione uma condição de trânsito',['Low', 'Medium', 'High', 'Jam'], default = ['Low', 'Medium', 'High', 'Jam'] )\n",
        "\n",
        "st.sidebar.markdown ('--------')\n",
        "\n",
        "st.sidebar.markdown ('## Powered by Alexandre Silva')\n",
        "\n",
        "# Linkando os filtros com os gráficos abaixo\n",
        "linhas_selecionadas = df ['Order_Date'] <  date\n",
        "df = df.loc [linhas_selecionadas, :]\n",
        "\n",
        "linhas_selecionadas = df ['Road_traffic_density']. isin (trafic)\n",
        "df = df.loc [linhas_selecionadas, :]\n",
        "\n",
        "\n",
        "\n",
        "#============================\n",
        "# Criando a página principal\n",
        "#============================\n",
        "\n",
        "st.header ('Marketplace - Visão empresa')\n",
        "\n",
        "tab1, tab2, tab3 = st.tabs (['Visão estratégica', 'Visão tática', 'Visão geográfica'])\n",
        "with tab1:\n",
        "    with st.container():\n",
        "        st.markdown ('Distribuição dos pedidos por data')\n",
        "        fig = pedidos_data (df)\n",
        "        st.plotly_chart (fig, use_container_width=True)\n",
        "\n",
        "    with st.container():\n",
        "        col1, col2 = st.columns (2)\n",
        "        with col1:\n",
        "            st.markdown ('Distribuição dos pedidos por tipo de tráfego')\n",
        "            fig = pedidos_traf (df)\n",
        "            st.plotly_chart (fig, use_container_width=True)\n",
        "\n",
        "        with col2:\n",
        "            st.markdown ('Distribuição dos pedidos por cidade e tipo de tráfego')\n",
        "            fig = pedidos_traf_cidade(df)\n",
        "            st.plotly_chart (fig, use_container_width=True)\n",
        "\n",
        "with tab2:\n",
        "    with st.container():\n",
        "        st.markdown ('Quantidade de pedidos por semana')\n",
        "        fig = pedidos_semana (df)\n",
        "        st.plotly_chart (fig, use_container_width=True)\n",
        "\n",
        "    with st.container():\n",
        "        st.markdown ('Quantidade de pedidos por entregador por semana')\n",
        "        fig = pedidos_semana_entreg (df)\n",
        "        st.plotly_chart (fig, use_container_width=True)\n",
        "\n",
        "with tab3:\n",
        "    st.markdown ('Localização central de cada cidade por tipo de tráfego')\n",
        "    mapa (df)"
      ]
    },
    {
      "cell_type": "markdown",
      "source": [
        "#Gerar o app no Streamlit"
      ],
      "metadata": {
        "id": "y9gcR_OIwvfi"
      }
    },
    {
      "cell_type": "code",
      "source": [
        "!pip install streamlit"
      ],
      "metadata": {
        "id": "3AhwlgGR9fZa"
      },
      "execution_count": null,
      "outputs": []
    },
    {
      "cell_type": "code",
      "source": [
        "!pip install pyngrok\n"
      ],
      "metadata": {
        "colab": {
          "base_uri": "https://localhost:8080/"
        },
        "id": "CTiABNEq9qkk",
        "outputId": "ecc995dd-c8c8-4e4d-ea8d-78485c4a3eb3"
      },
      "execution_count": 7,
      "outputs": [
        {
          "output_type": "stream",
          "name": "stdout",
          "text": [
            "Collecting pyngrok\n",
            "  Downloading pyngrok-7.2.1-py3-none-any.whl.metadata (8.3 kB)\n",
            "Requirement already satisfied: PyYAML>=5.1 in /usr/local/lib/python3.10/dist-packages (from pyngrok) (6.0.2)\n",
            "Downloading pyngrok-7.2.1-py3-none-any.whl (22 kB)\n",
            "Installing collected packages: pyngrok\n",
            "Successfully installed pyngrok-7.2.1\n"
          ]
        }
      ]
    },
    {
      "cell_type": "code",
      "source": [
        "from pyngrok import ngrok\n",
        "\n",
        "# Substitua 'SEU_AUTHTOKEN' pelo seu token do ngrok\n",
        "ngrok.set_auth_token(\"2oTssvHSufUmTNFucZNlowPfEKp_4PDaoQzZjp1eNGGid12gt\")\n"
      ],
      "metadata": {
        "id": "trTcJtFgxbhq"
      },
      "execution_count": 9,
      "outputs": []
    },
    {
      "cell_type": "code",
      "source": [
        "%%writefile app.py\n",
        "import streamlit as st\n",
        "\n",
        "st.title(\"Meu App Streamlit no Google Colab!\")\n",
        "st.write(\"Este é um exemplo simples rodando no Colab.\")\n"
      ],
      "metadata": {
        "colab": {
          "base_uri": "https://localhost:8080/"
        },
        "id": "RaB-nKIFyD_y",
        "outputId": "fea538c7-3cd3-4173-d1c0-5bdf33132a32"
      },
      "execution_count": 11,
      "outputs": [
        {
          "output_type": "stream",
          "name": "stdout",
          "text": [
            "Writing app.py\n"
          ]
        }
      ]
    },
    {
      "cell_type": "code",
      "source": [
        "\n",
        "# Inicie o Streamlit em segundo plano\n",
        "!streamlit run app.py &>/dev/null&\n"
      ],
      "metadata": {
        "id": "mU2zoY659zwC"
      },
      "execution_count": 13,
      "outputs": []
    },
    {
      "cell_type": "code",
      "source": [
        "#public_url = ngrok.connect(port='8501')\n",
        "public_url = ngrok.connect(\"http://localhost:8501\")\n"
      ],
      "metadata": {
        "id": "FjfxhWCByr7A"
      },
      "execution_count": 17,
      "outputs": []
    },
    {
      "cell_type": "code",
      "source": [
        "print(\"Acesse seu app aqui:\", public_url)"
      ],
      "metadata": {
        "colab": {
          "base_uri": "https://localhost:8080/"
        },
        "id": "Dw4WfVQMc-Yn",
        "outputId": "ce34f4a9-c75c-48cf-c840-296ceae43711"
      },
      "execution_count": 18,
      "outputs": [
        {
          "output_type": "stream",
          "name": "stdout",
          "text": [
            "Acesse seu app aqui: NgrokTunnel: \"https://ea84-34-136-111-195.ngrok-free.app\" -> \"http://localhost:8501\"\n"
          ]
        }
      ]
    }
  ]
}