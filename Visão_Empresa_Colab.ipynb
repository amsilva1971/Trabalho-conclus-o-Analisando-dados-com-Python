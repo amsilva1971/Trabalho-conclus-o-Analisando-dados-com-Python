{
  "nbformat": 4,
  "nbformat_minor": 0,
  "metadata": {
    "colab": {
      "provenance": [],
      "mount_file_id": "1l472sDOVLH1EMblCNCWQ3ocZy2MK_T7o",
      "authorship_tag": "ABX9TyMPa+dlOP54ARI/HxpZghAZ",
      "include_colab_link": true
    },
    "kernelspec": {
      "name": "python3",
      "display_name": "Python 3"
    },
    "language_info": {
      "name": "python"
    }
  },
  "cells": [
    {
      "cell_type": "markdown",
      "metadata": {
        "id": "view-in-github",
        "colab_type": "text"
      },
      "source": [
        "<a href=\"https://colab.research.google.com/github/amsilva1971/Trabalho-conclus-o-Analisando-dados-com-Python/blob/main/Vis%C3%A3o_Empresa_Colab.ipynb\" target=\"_parent\"><img src=\"https://colab.research.google.com/assets/colab-badge.svg\" alt=\"Open In Colab\"/></a>"
      ]
    },
    {
      "cell_type": "code",
      "execution_count": 23,
      "metadata": {
        "colab": {
          "base_uri": "https://localhost:8080/"
        },
        "id": "7HGh8qWFj9_c",
        "outputId": "db8481a4-860c-4132-b4b5-3eaa73461801"
      },
      "outputs": [
        {
          "output_type": "stream",
          "name": "stdout",
          "text": [
            "Requirement already satisfied: haversine in /usr/local/lib/python3.10/dist-packages (2.8.1)\n",
            "Requirement already satisfied: streamlit-folium in /usr/local/lib/python3.10/dist-packages (0.23.1)\n",
            "Requirement already satisfied: streamlit>=1.13.0 in /usr/local/lib/python3.10/dist-packages (from streamlit-folium) (1.40.0)\n",
            "Requirement already satisfied: folium!=0.15.0,>=0.13 in /usr/local/lib/python3.10/dist-packages (from streamlit-folium) (0.18.0)\n",
            "Requirement already satisfied: jinja2 in /usr/local/lib/python3.10/dist-packages (from streamlit-folium) (3.1.4)\n",
            "Requirement already satisfied: branca in /usr/local/lib/python3.10/dist-packages (from streamlit-folium) (0.8.0)\n",
            "Requirement already satisfied: numpy in /usr/local/lib/python3.10/dist-packages (from folium!=0.15.0,>=0.13->streamlit-folium) (1.26.4)\n",
            "Requirement already satisfied: requests in /usr/local/lib/python3.10/dist-packages (from folium!=0.15.0,>=0.13->streamlit-folium) (2.32.3)\n",
            "Requirement already satisfied: xyzservices in /usr/local/lib/python3.10/dist-packages (from folium!=0.15.0,>=0.13->streamlit-folium) (2024.9.0)\n",
            "Requirement already satisfied: MarkupSafe>=2.0 in /usr/local/lib/python3.10/dist-packages (from jinja2->streamlit-folium) (3.0.2)\n",
            "Requirement already satisfied: altair<6,>=4.0 in /usr/local/lib/python3.10/dist-packages (from streamlit>=1.13.0->streamlit-folium) (4.2.2)\n",
            "Requirement already satisfied: blinker<2,>=1.0.0 in /usr/lib/python3/dist-packages (from streamlit>=1.13.0->streamlit-folium) (1.4)\n",
            "Requirement already satisfied: cachetools<6,>=4.0 in /usr/local/lib/python3.10/dist-packages (from streamlit>=1.13.0->streamlit-folium) (5.5.0)\n",
            "Requirement already satisfied: click<9,>=7.0 in /usr/local/lib/python3.10/dist-packages (from streamlit>=1.13.0->streamlit-folium) (8.1.7)\n",
            "Requirement already satisfied: packaging<25,>=20 in /usr/local/lib/python3.10/dist-packages (from streamlit>=1.13.0->streamlit-folium) (24.1)\n",
            "Requirement already satisfied: pandas<3,>=1.4.0 in /usr/local/lib/python3.10/dist-packages (from streamlit>=1.13.0->streamlit-folium) (2.2.2)\n",
            "Requirement already satisfied: pillow<12,>=7.1.0 in /usr/local/lib/python3.10/dist-packages (from streamlit>=1.13.0->streamlit-folium) (10.4.0)\n",
            "Requirement already satisfied: protobuf<6,>=3.20 in /usr/local/lib/python3.10/dist-packages (from streamlit>=1.13.0->streamlit-folium) (3.20.3)\n",
            "Requirement already satisfied: pyarrow>=7.0 in /usr/local/lib/python3.10/dist-packages (from streamlit>=1.13.0->streamlit-folium) (17.0.0)\n",
            "Requirement already satisfied: rich<14,>=10.14.0 in /usr/local/lib/python3.10/dist-packages (from streamlit>=1.13.0->streamlit-folium) (13.9.3)\n",
            "Requirement already satisfied: tenacity<10,>=8.1.0 in /usr/local/lib/python3.10/dist-packages (from streamlit>=1.13.0->streamlit-folium) (9.0.0)\n",
            "Requirement already satisfied: toml<2,>=0.10.1 in /usr/local/lib/python3.10/dist-packages (from streamlit>=1.13.0->streamlit-folium) (0.10.2)\n",
            "Requirement already satisfied: typing-extensions<5,>=4.3.0 in /usr/local/lib/python3.10/dist-packages (from streamlit>=1.13.0->streamlit-folium) (4.12.2)\n",
            "Requirement already satisfied: gitpython!=3.1.19,<4,>=3.0.7 in /usr/local/lib/python3.10/dist-packages (from streamlit>=1.13.0->streamlit-folium) (3.1.43)\n",
            "Requirement already satisfied: pydeck<1,>=0.8.0b4 in /usr/local/lib/python3.10/dist-packages (from streamlit>=1.13.0->streamlit-folium) (0.9.1)\n",
            "Requirement already satisfied: tornado<7,>=6.0.3 in /usr/local/lib/python3.10/dist-packages (from streamlit>=1.13.0->streamlit-folium) (6.3.3)\n",
            "Requirement already satisfied: watchdog<6,>=2.1.5 in /usr/local/lib/python3.10/dist-packages (from streamlit>=1.13.0->streamlit-folium) (5.0.3)\n",
            "Requirement already satisfied: entrypoints in /usr/local/lib/python3.10/dist-packages (from altair<6,>=4.0->streamlit>=1.13.0->streamlit-folium) (0.4)\n",
            "Requirement already satisfied: jsonschema>=3.0 in /usr/local/lib/python3.10/dist-packages (from altair<6,>=4.0->streamlit>=1.13.0->streamlit-folium) (4.23.0)\n",
            "Requirement already satisfied: toolz in /usr/local/lib/python3.10/dist-packages (from altair<6,>=4.0->streamlit>=1.13.0->streamlit-folium) (0.12.1)\n",
            "Requirement already satisfied: gitdb<5,>=4.0.1 in /usr/local/lib/python3.10/dist-packages (from gitpython!=3.1.19,<4,>=3.0.7->streamlit>=1.13.0->streamlit-folium) (4.0.11)\n",
            "Requirement already satisfied: python-dateutil>=2.8.2 in /usr/local/lib/python3.10/dist-packages (from pandas<3,>=1.4.0->streamlit>=1.13.0->streamlit-folium) (2.8.2)\n",
            "Requirement already satisfied: pytz>=2020.1 in /usr/local/lib/python3.10/dist-packages (from pandas<3,>=1.4.0->streamlit>=1.13.0->streamlit-folium) (2024.2)\n",
            "Requirement already satisfied: tzdata>=2022.7 in /usr/local/lib/python3.10/dist-packages (from pandas<3,>=1.4.0->streamlit>=1.13.0->streamlit-folium) (2024.2)\n",
            "Requirement already satisfied: charset-normalizer<4,>=2 in /usr/local/lib/python3.10/dist-packages (from requests->folium!=0.15.0,>=0.13->streamlit-folium) (3.4.0)\n",
            "Requirement already satisfied: idna<4,>=2.5 in /usr/local/lib/python3.10/dist-packages (from requests->folium!=0.15.0,>=0.13->streamlit-folium) (3.10)\n",
            "Requirement already satisfied: urllib3<3,>=1.21.1 in /usr/local/lib/python3.10/dist-packages (from requests->folium!=0.15.0,>=0.13->streamlit-folium) (2.2.3)\n",
            "Requirement already satisfied: certifi>=2017.4.17 in /usr/local/lib/python3.10/dist-packages (from requests->folium!=0.15.0,>=0.13->streamlit-folium) (2024.8.30)\n",
            "Requirement already satisfied: markdown-it-py>=2.2.0 in /usr/local/lib/python3.10/dist-packages (from rich<14,>=10.14.0->streamlit>=1.13.0->streamlit-folium) (3.0.0)\n",
            "Requirement already satisfied: pygments<3.0.0,>=2.13.0 in /usr/local/lib/python3.10/dist-packages (from rich<14,>=10.14.0->streamlit>=1.13.0->streamlit-folium) (2.18.0)\n",
            "Requirement already satisfied: smmap<6,>=3.0.1 in /usr/local/lib/python3.10/dist-packages (from gitdb<5,>=4.0.1->gitpython!=3.1.19,<4,>=3.0.7->streamlit>=1.13.0->streamlit-folium) (5.0.1)\n",
            "Requirement already satisfied: attrs>=22.2.0 in /usr/local/lib/python3.10/dist-packages (from jsonschema>=3.0->altair<6,>=4.0->streamlit>=1.13.0->streamlit-folium) (24.2.0)\n",
            "Requirement already satisfied: jsonschema-specifications>=2023.03.6 in /usr/local/lib/python3.10/dist-packages (from jsonschema>=3.0->altair<6,>=4.0->streamlit>=1.13.0->streamlit-folium) (2024.10.1)\n",
            "Requirement already satisfied: referencing>=0.28.4 in /usr/local/lib/python3.10/dist-packages (from jsonschema>=3.0->altair<6,>=4.0->streamlit>=1.13.0->streamlit-folium) (0.35.1)\n",
            "Requirement already satisfied: rpds-py>=0.7.1 in /usr/local/lib/python3.10/dist-packages (from jsonschema>=3.0->altair<6,>=4.0->streamlit>=1.13.0->streamlit-folium) (0.20.0)\n",
            "Requirement already satisfied: mdurl~=0.1 in /usr/local/lib/python3.10/dist-packages (from markdown-it-py>=2.2.0->rich<14,>=10.14.0->streamlit>=1.13.0->streamlit-folium) (0.1.2)\n",
            "Requirement already satisfied: six>=1.5 in /usr/local/lib/python3.10/dist-packages (from python-dateutil>=2.8.2->pandas<3,>=1.4.0->streamlit>=1.13.0->streamlit-folium) (1.16.0)\n"
          ]
        },
        {
          "output_type": "stream",
          "name": "stderr",
          "text": [
            "2024-11-07 14:06:12.297 Thread 'MainThread': missing ScriptRunContext! This warning can be ignored when running in bare mode.\n",
            "2024-11-07 14:06:13.241 Thread 'MainThread': missing ScriptRunContext! This warning can be ignored when running in bare mode.\n",
            "2024-11-07 14:06:13.252 Thread 'MainThread': missing ScriptRunContext! This warning can be ignored when running in bare mode.\n",
            "2024-11-07 14:06:13.257 Thread 'MainThread': missing ScriptRunContext! This warning can be ignored when running in bare mode.\n",
            "2024-11-07 14:06:13.261 Thread 'MainThread': missing ScriptRunContext! This warning can be ignored when running in bare mode.\n",
            "2024-11-07 14:06:13.267 Thread 'MainThread': missing ScriptRunContext! This warning can be ignored when running in bare mode.\n",
            "2024-11-07 14:06:13.270 Thread 'MainThread': missing ScriptRunContext! This warning can be ignored when running in bare mode.\n",
            "2024-11-07 14:06:13.276 Thread 'MainThread': missing ScriptRunContext! This warning can be ignored when running in bare mode.\n",
            "2024-11-07 14:06:13.278 Thread 'MainThread': missing ScriptRunContext! This warning can be ignored when running in bare mode.\n",
            "2024-11-07 14:06:13.279 Thread 'MainThread': missing ScriptRunContext! This warning can be ignored when running in bare mode.\n",
            "2024-11-07 14:06:13.281 Thread 'MainThread': missing ScriptRunContext! This warning can be ignored when running in bare mode.\n",
            "2024-11-07 14:06:13.282 Thread 'MainThread': missing ScriptRunContext! This warning can be ignored when running in bare mode.\n",
            "2024-11-07 14:06:13.285 Thread 'MainThread': missing ScriptRunContext! This warning can be ignored when running in bare mode.\n",
            "2024-11-07 14:06:13.287 Thread 'MainThread': missing ScriptRunContext! This warning can be ignored when running in bare mode.\n",
            "2024-11-07 14:06:13.290 Thread 'MainThread': missing ScriptRunContext! This warning can be ignored when running in bare mode.\n",
            "2024-11-07 14:06:13.292 Thread 'MainThread': missing ScriptRunContext! This warning can be ignored when running in bare mode.\n",
            "2024-11-07 14:06:13.293 Thread 'MainThread': missing ScriptRunContext! This warning can be ignored when running in bare mode.\n",
            "2024-11-07 14:06:13.295 Thread 'MainThread': missing ScriptRunContext! This warning can be ignored when running in bare mode.\n",
            "2024-11-07 14:06:13.298 Thread 'MainThread': missing ScriptRunContext! This warning can be ignored when running in bare mode.\n",
            "2024-11-07 14:06:13.300 Thread 'MainThread': missing ScriptRunContext! This warning can be ignored when running in bare mode.\n",
            "2024-11-07 14:06:13.302 Thread 'MainThread': missing ScriptRunContext! This warning can be ignored when running in bare mode.\n",
            "2024-11-07 14:06:13.303 Thread 'MainThread': missing ScriptRunContext! This warning can be ignored when running in bare mode.\n",
            "2024-11-07 14:06:13.304 Thread 'MainThread': missing ScriptRunContext! This warning can be ignored when running in bare mode.\n",
            "2024-11-07 14:06:13.308 Thread 'MainThread': missing ScriptRunContext! This warning can be ignored when running in bare mode.\n",
            "2024-11-07 14:06:13.365 Thread 'MainThread': missing ScriptRunContext! This warning can be ignored when running in bare mode.\n",
            "2024-11-07 14:06:13.367 Thread 'MainThread': missing ScriptRunContext! This warning can be ignored when running in bare mode.\n",
            "2024-11-07 14:06:13.370 Thread 'MainThread': missing ScriptRunContext! This warning can be ignored when running in bare mode.\n",
            "2024-11-07 14:06:13.372 Thread 'MainThread': missing ScriptRunContext! This warning can be ignored when running in bare mode.\n",
            "2024-11-07 14:06:13.375 Thread 'MainThread': missing ScriptRunContext! This warning can be ignored when running in bare mode.\n",
            "2024-11-07 14:06:13.377 Thread 'MainThread': missing ScriptRunContext! This warning can be ignored when running in bare mode.\n",
            "2024-11-07 14:06:13.379 Thread 'MainThread': missing ScriptRunContext! This warning can be ignored when running in bare mode.\n",
            "2024-11-07 14:06:13.380 Thread 'MainThread': missing ScriptRunContext! This warning can be ignored when running in bare mode.\n",
            "2024-11-07 14:06:13.382 Thread 'MainThread': missing ScriptRunContext! This warning can be ignored when running in bare mode.\n",
            "2024-11-07 14:06:13.527 Thread 'MainThread': missing ScriptRunContext! This warning can be ignored when running in bare mode.\n",
            "2024-11-07 14:06:13.531 Thread 'MainThread': missing ScriptRunContext! This warning can be ignored when running in bare mode.\n",
            "2024-11-07 14:06:13.533 Thread 'MainThread': missing ScriptRunContext! This warning can be ignored when running in bare mode.\n",
            "2024-11-07 14:06:13.536 Thread 'MainThread': missing ScriptRunContext! This warning can be ignored when running in bare mode.\n",
            "2024-11-07 14:06:13.538 Thread 'MainThread': missing ScriptRunContext! This warning can be ignored when running in bare mode.\n",
            "2024-11-07 14:06:13.540 Thread 'MainThread': missing ScriptRunContext! This warning can be ignored when running in bare mode.\n",
            "2024-11-07 14:06:13.542 Thread 'MainThread': missing ScriptRunContext! This warning can be ignored when running in bare mode.\n",
            "2024-11-07 14:06:13.549 Thread 'MainThread': missing ScriptRunContext! This warning can be ignored when running in bare mode.\n",
            "2024-11-07 14:06:13.550 Thread 'MainThread': missing ScriptRunContext! This warning can be ignored when running in bare mode.\n",
            "2024-11-07 14:06:13.552 Thread 'MainThread': missing ScriptRunContext! This warning can be ignored when running in bare mode.\n",
            "2024-11-07 14:06:13.642 Thread 'MainThread': missing ScriptRunContext! This warning can be ignored when running in bare mode.\n",
            "2024-11-07 14:06:13.646 Thread 'MainThread': missing ScriptRunContext! This warning can be ignored when running in bare mode.\n",
            "2024-11-07 14:06:13.651 Thread 'MainThread': missing ScriptRunContext! This warning can be ignored when running in bare mode.\n",
            "2024-11-07 14:06:13.653 Thread 'MainThread': missing ScriptRunContext! This warning can be ignored when running in bare mode.\n",
            "2024-11-07 14:06:13.658 Thread 'MainThread': missing ScriptRunContext! This warning can be ignored when running in bare mode.\n",
            "2024-11-07 14:06:13.659 Thread 'MainThread': missing ScriptRunContext! This warning can be ignored when running in bare mode.\n",
            "2024-11-07 14:06:13.806 Thread 'MainThread': missing ScriptRunContext! This warning can be ignored when running in bare mode.\n",
            "2024-11-07 14:06:13.812 Thread 'MainThread': missing ScriptRunContext! This warning can be ignored when running in bare mode.\n",
            "2024-11-07 14:06:13.815 Thread 'MainThread': missing ScriptRunContext! This warning can be ignored when running in bare mode.\n",
            "2024-11-07 14:06:13.818 Thread 'MainThread': missing ScriptRunContext! This warning can be ignored when running in bare mode.\n",
            "2024-11-07 14:06:13.823 Thread 'MainThread': missing ScriptRunContext! This warning can be ignored when running in bare mode.\n",
            "2024-11-07 14:06:13.826 Thread 'MainThread': missing ScriptRunContext! This warning can be ignored when running in bare mode.\n",
            "2024-11-07 14:06:13.827 Thread 'MainThread': missing ScriptRunContext! This warning can be ignored when running in bare mode.\n",
            "2024-11-07 14:06:14.286 Thread 'MainThread': missing ScriptRunContext! This warning can be ignored when running in bare mode.\n",
            "2024-11-07 14:06:14.289 Thread 'MainThread': missing ScriptRunContext! This warning can be ignored when running in bare mode.\n",
            "2024-11-07 14:06:14.291 Thread 'MainThread': missing ScriptRunContext! This warning can be ignored when running in bare mode.\n",
            "2024-11-07 14:06:14.293 Thread 'MainThread': missing ScriptRunContext! This warning can be ignored when running in bare mode.\n",
            "2024-11-07 14:06:14.296 Thread 'MainThread': missing ScriptRunContext! This warning can be ignored when running in bare mode.\n",
            "2024-11-07 14:06:14.297 Thread 'MainThread': missing ScriptRunContext! This warning can be ignored when running in bare mode.\n",
            "2024-11-07 14:06:14.299 Thread 'MainThread': missing ScriptRunContext! This warning can be ignored when running in bare mode.\n",
            "2024-11-07 14:06:14.423 Thread 'MainThread': missing ScriptRunContext! This warning can be ignored when running in bare mode.\n",
            "2024-11-07 14:06:14.426 Thread 'MainThread': missing ScriptRunContext! This warning can be ignored when running in bare mode.\n",
            "2024-11-07 14:06:14.428 Thread 'MainThread': missing ScriptRunContext! This warning can be ignored when running in bare mode.\n",
            "2024-11-07 14:06:14.430 Thread 'MainThread': missing ScriptRunContext! This warning can be ignored when running in bare mode.\n",
            "2024-11-07 14:06:14.433 Thread 'MainThread': missing ScriptRunContext! This warning can be ignored when running in bare mode.\n",
            "2024-11-07 14:06:14.434 Thread 'MainThread': missing ScriptRunContext! This warning can be ignored when running in bare mode.\n",
            "2024-11-07 14:06:14.536 Thread 'MainThread': missing ScriptRunContext! This warning can be ignored when running in bare mode.\n",
            "2024-11-07 14:06:14.539 Thread 'MainThread': missing ScriptRunContext! This warning can be ignored when running in bare mode.\n"
          ]
        }
      ],
      "source": [
        "\n",
        "!pip install haversine\n",
        "!pip install streamlit-folium\n",
        "\n",
        "import datetime\n",
        "import pandas as pd\n",
        "import streamlit as st\n",
        "from PIL import Image\n",
        "from haversine import haversine\n",
        "import plotly.express as px\n",
        "import folium\n",
        "#from streamlit_folium import folium_static\n",
        "from streamlit_folium import folium_static\n",
        "import warnings\n",
        "warnings.filterwarnings(\"ignore\")\n",
        "\n",
        "\n",
        "\n",
        "\n",
        "st.set_page_config (page_title='Visão empresa', page_icon='', layout='wide')\n",
        "\n",
        "\n",
        "#-------Criando as funções/modularização--------#\n",
        "\n",
        "def limpeza (df):\n",
        "\n",
        "    df.loc[:, 'ID'] = df.loc[:, 'ID'].str.strip()\n",
        "    df.loc[:, 'Delivery_person_ID'] = df.loc[:, 'Delivery_person_ID'].str.strip()\n",
        "    df.loc[:, 'Road_traffic_density'] = df.loc[:, 'Road_traffic_density'].str.strip()\n",
        "    df.loc[:, 'Type_of_order'] = df.loc[:, 'Type_of_order'].str.strip()\n",
        "    df.loc[:, 'Type_of_vehicle'] = df.loc[:, 'Type_of_vehicle'].str.strip()\n",
        "    df.loc[:, 'Festival'] = df.loc[:, 'Festival'].str.strip()\n",
        "    df.loc[:, 'City'] = df.loc[:, 'City'].str.strip()\n",
        "\n",
        "    linhas_vazias = df['Time_taken(min)'] != 'NaN '\n",
        "    df = df.loc[linhas_vazias, :]\n",
        "    linhas_vazias = df['Time_taken(min)'] != 'NaN'\n",
        "    df = df.loc[linhas_vazias, :]\n",
        "    linhas_vazias = df['Vehicle_condition'] != 'NaN '\n",
        "    df = df.loc[linhas_vazias, :]\n",
        "    linhas_vazias = df['Vehicle_condition'] != 'NaN'\n",
        "    df = df.loc[linhas_vazias, :]\n",
        "    linhas_vazias = df['Delivery_person_Age'] != 'NaN '\n",
        "    df = df.loc[linhas_vazias, :]\n",
        "    linhas_vazias = df['Delivery_person_Ratings'] != 'NaN '\n",
        "    df = df.loc[linhas_vazias, :]\n",
        "    linhas_vazias = df['Road_traffic_density'] != 'NaN '\n",
        "    df = df.loc[linhas_vazias, :]\n",
        "    linhas_vazias = df['Road_traffic_density'] != 'NaN'\n",
        "    df = df.loc[linhas_vazias, :]\n",
        "    linhas_vazias = df['multiple_deliveries'] != 'NaN '\n",
        "    df = df.loc[linhas_vazias, :]\n",
        "    linhas_vazias = df['Festival'] != 'NaN '\n",
        "    df = df.loc[linhas_vazias, :]\n",
        "    linhas_vazias = df['City'] != 'NaN '\n",
        "    df = df.loc[linhas_vazias, :]\n",
        "    linhas_vazias = df['City'] != 'NaN'\n",
        "    df = df.loc[linhas_vazias, :]\n",
        "    linhas_vazias = df['Order_Date'] != 'NaN '\n",
        "    df = df.loc[linhas_vazias, :]\n",
        "\n",
        "    df['Delivery_person_Age'] = df['Delivery_person_Age'].astype( int )\n",
        "    df['Delivery_person_Ratings'] = df['Delivery_person_Ratings'].astype( float )\n",
        "    df['Order_Date'] = pd.to_datetime( df['Order_Date'], format = '%d-%m-%Y')\n",
        "    df ['Time_taken(min)'] = df ['Time_taken(min)'].apply (lambda x: x.split ('(min) ')[1])\n",
        "    df ['Time_taken(min)'] = df ['Time_taken(min)'].astype(int)\n",
        "\n",
        "    return df\n",
        "\n",
        "def pedidos_data (df):\n",
        "\n",
        "    pedidos = [ 'ID' , 'Order_Date']\n",
        "    pedidos1 = df.loc [: , pedidos].groupby(['Order_Date']). count().reset_index()\n",
        "    fig = px.bar (pedidos1 , x = 'Order_Date' , y = 'ID' )\n",
        "\n",
        "    return fig\n",
        "\n",
        "def pedidos_traf (df):\n",
        "    pedidos1 = [ 'ID' , 'Road_traffic_density']\n",
        "    pedidos1 = df.loc [: , pedidos1].groupby(['Road_traffic_density']). count().reset_index()\n",
        "    pedidos1 ['perc']=  pedidos1 ['ID'] / pedidos1 ['ID'].sum()\n",
        "    fig = px.pie (pedidos1 , values = 'perc' , names = 'Road_traffic_density' )\n",
        "\n",
        "    return fig\n",
        "\n",
        "def pedidos_traf_cidade (df):\n",
        "    pedidos1 = [ 'ID' , 'City', 'Road_traffic_density']\n",
        "    pedidos1 = df.loc [: , pedidos1].groupby(['Road_traffic_density', 'City']). count().reset_index()\n",
        "    fig = px.scatter (pedidos1 , x = 'City', y = 'Road_traffic_density' , size = 'ID', color = 'City')\n",
        "\n",
        "    return fig\n",
        "\n",
        "def pedidos_semana (df):\n",
        "    df ['Week'] = df ['Order_Date'] .dt.strftime ('%U')\n",
        "    pedidos = [ 'ID' , 'Week']\n",
        "    pedidos1 = df.loc [: , pedidos].groupby(['Week']). count().reset_index()\n",
        "    fig = px.line (pedidos1 , x = 'Week' , y = 'ID' )\n",
        "\n",
        "    return fig\n",
        "\n",
        "def pedidos_semana_entreg (df):\n",
        "    ped_sem = [ 'ID' , 'Week']\n",
        "    ped_entreg = ['Delivery_person_ID', 'Week']\n",
        "    pedidos2 = df.loc [: , ped_sem].groupby('Week'). count().reset_index()\n",
        "    pedidos3 = df.loc [: , ped_entreg].groupby(['Week']). nunique().reset_index()\n",
        "    pedidos4 = pd.merge (pedidos2, pedidos3, how='inner')\n",
        "    pedidos4 ['Pedidos por entregador na semana'] = pedidos4 ['ID'] / pedidos4 ['Delivery_person_ID']\n",
        "    fig = px.line (pedidos4 , x = 'Week', y = 'Pedidos por entregador na semana')\n",
        "\n",
        "    return fig\n",
        "\n",
        "def mapa (df):\n",
        "    #st_folium = folium_static\n",
        "    local_traf = df.loc [: , [\"Road_traffic_density\", \"City\",\"Delivery_location_latitude\", \"Delivery_location_longitude\"]].groupby(['Road_traffic_density', 'City']). median().reset_index()\n",
        "    map = folium.Map()\n",
        "\n",
        "    for index, location_info in local_traf.iterrows ():\n",
        "        folium.Marker ([location_info ['Delivery_location_latitude'],\n",
        "                        location_info ['Delivery_location_longitude']],\n",
        "                        popup = location_info [['City', 'Road_traffic_density']]). add_to (map)\n",
        "\n",
        "    folium_static (map, width=1024, height = 600)\n",
        "\n",
        "    return\n",
        "\n",
        "\n",
        "#-----------Iniciando a estrutura lógica------------------------------\n",
        "\n",
        "# Importando o dataframe \"train.csv\"\n",
        "df = pd.read_csv ('/content/drive/MyDrive/Colab Notebooks/train.csv')\n",
        "\n",
        "# Limpando o dataframe\n",
        "\n",
        "df = limpeza (df)\n",
        "\n",
        "\n",
        "#============================\n",
        "# Criando a barra lateral\n",
        "#============================\n",
        "\n",
        "# Importando o logotipo da empresa 'logo_delivery.png'\n",
        "arquivo='/content/drive/MyDrive/Colab Notebooks/logo_delivery.png'\n",
        "logo=Image.open (arquivo)\n",
        "st.sidebar.image (logo, width =120)\n",
        "\n",
        "st.sidebar.markdown ('# Cury Company')\n",
        "st.sidebar.markdown ('## Fastest delivery in town')\n",
        "st.sidebar.markdown ('--------')\n",
        "\n",
        "# Criando os filtros (inputs do usuário)\n",
        "date = st.sidebar.slider ('Selecione uma data limite', value=datetime.datetime (2022, 4, 13 ), min_value=datetime.datetime (2022, 2, 11 ), max_value=datetime.datetime (2022, 4, 6 ), format='DD-MM-YYYY' )\n",
        "\n",
        "trafic = st.sidebar.multiselect ('Selecione uma condição de trânsito',['Low', 'Medium', 'High', 'Jam'], default = ['Low', 'Medium', 'High', 'Jam'] )\n",
        "\n",
        "st.sidebar.markdown ('--------')\n",
        "\n",
        "st.sidebar.markdown ('## Powered by Alexandre Silva')\n",
        "\n",
        "# Linkando os filtros com os gráficos abaixo\n",
        "linhas_selecionadas = df ['Order_Date'] <  date\n",
        "df = df.loc [linhas_selecionadas, :]\n",
        "\n",
        "linhas_selecionadas = df ['Road_traffic_density']. isin (trafic)\n",
        "df = df.loc [linhas_selecionadas, :]\n",
        "\n",
        "\n",
        "\n",
        "#============================\n",
        "# Criando a página principal\n",
        "#============================\n",
        "\n",
        "st.header ('Marketplace - Visão empresa')\n",
        "\n",
        "tab1, tab2, tab3 = st.tabs (['Visão estratégica', 'Visão tática', 'Visão geográfica'])\n",
        "with tab1:\n",
        "    with st.container():\n",
        "        st.markdown ('Distribuição dos pedidos por data')\n",
        "        fig = pedidos_data (df)\n",
        "        st.plotly_chart (fig, use_container_width=True)\n",
        "\n",
        "    with st.container():\n",
        "        col1, col2 = st.columns (2)\n",
        "        with col1:\n",
        "            st.markdown ('Distribuição dos pedidos por tipo de tráfego')\n",
        "            fig = pedidos_traf (df)\n",
        "            st.plotly_chart (fig, use_container_width=True)\n",
        "\n",
        "        with col2:\n",
        "            st.markdown ('Distribuição dos pedidos por cidade e tipo de tráfego')\n",
        "            fig = pedidos_traf_cidade(df)\n",
        "            st.plotly_chart (fig, use_container_width=True)\n",
        "\n",
        "with tab2:\n",
        "    with st.container():\n",
        "        st.markdown ('Quantidade de pedidos por semana')\n",
        "        fig = pedidos_semana (df)\n",
        "        st.plotly_chart (fig, use_container_width=True)\n",
        "\n",
        "    with st.container():\n",
        "        st.markdown ('Quantidade de pedidos por entregador por semana')\n",
        "        fig = pedidos_semana_entreg (df)\n",
        "        st.plotly_chart (fig, use_container_width=True)\n",
        "\n",
        "with tab3:\n",
        "    st.markdown ('Localização central de cada cidade por tipo de tráfego')\n",
        "    mapa (df)"
      ]
    },
    {
      "cell_type": "markdown",
      "source": [
        "#Gerar o app no Streamlit"
      ],
      "metadata": {
        "id": "y9gcR_OIwvfi"
      }
    },
    {
      "cell_type": "code",
      "source": [
        "!pip install streamlit"
      ],
      "metadata": {
        "colab": {
          "base_uri": "https://localhost:8080/"
        },
        "id": "3AhwlgGR9fZa",
        "outputId": "3c552a28-a8e3-45d6-96f6-a6339474046d"
      },
      "execution_count": 24,
      "outputs": [
        {
          "output_type": "stream",
          "name": "stdout",
          "text": [
            "Requirement already satisfied: streamlit in /usr/local/lib/python3.10/dist-packages (1.40.0)\n",
            "Requirement already satisfied: altair<6,>=4.0 in /usr/local/lib/python3.10/dist-packages (from streamlit) (4.2.2)\n",
            "Requirement already satisfied: blinker<2,>=1.0.0 in /usr/lib/python3/dist-packages (from streamlit) (1.4)\n",
            "Requirement already satisfied: cachetools<6,>=4.0 in /usr/local/lib/python3.10/dist-packages (from streamlit) (5.5.0)\n",
            "Requirement already satisfied: click<9,>=7.0 in /usr/local/lib/python3.10/dist-packages (from streamlit) (8.1.7)\n",
            "Requirement already satisfied: numpy<3,>=1.20 in /usr/local/lib/python3.10/dist-packages (from streamlit) (1.26.4)\n",
            "Requirement already satisfied: packaging<25,>=20 in /usr/local/lib/python3.10/dist-packages (from streamlit) (24.1)\n",
            "Requirement already satisfied: pandas<3,>=1.4.0 in /usr/local/lib/python3.10/dist-packages (from streamlit) (2.2.2)\n",
            "Requirement already satisfied: pillow<12,>=7.1.0 in /usr/local/lib/python3.10/dist-packages (from streamlit) (10.4.0)\n",
            "Requirement already satisfied: protobuf<6,>=3.20 in /usr/local/lib/python3.10/dist-packages (from streamlit) (3.20.3)\n",
            "Requirement already satisfied: pyarrow>=7.0 in /usr/local/lib/python3.10/dist-packages (from streamlit) (17.0.0)\n",
            "Requirement already satisfied: requests<3,>=2.27 in /usr/local/lib/python3.10/dist-packages (from streamlit) (2.32.3)\n",
            "Requirement already satisfied: rich<14,>=10.14.0 in /usr/local/lib/python3.10/dist-packages (from streamlit) (13.9.3)\n",
            "Requirement already satisfied: tenacity<10,>=8.1.0 in /usr/local/lib/python3.10/dist-packages (from streamlit) (9.0.0)\n",
            "Requirement already satisfied: toml<2,>=0.10.1 in /usr/local/lib/python3.10/dist-packages (from streamlit) (0.10.2)\n",
            "Requirement already satisfied: typing-extensions<5,>=4.3.0 in /usr/local/lib/python3.10/dist-packages (from streamlit) (4.12.2)\n",
            "Requirement already satisfied: gitpython!=3.1.19,<4,>=3.0.7 in /usr/local/lib/python3.10/dist-packages (from streamlit) (3.1.43)\n",
            "Requirement already satisfied: pydeck<1,>=0.8.0b4 in /usr/local/lib/python3.10/dist-packages (from streamlit) (0.9.1)\n",
            "Requirement already satisfied: tornado<7,>=6.0.3 in /usr/local/lib/python3.10/dist-packages (from streamlit) (6.3.3)\n",
            "Requirement already satisfied: watchdog<6,>=2.1.5 in /usr/local/lib/python3.10/dist-packages (from streamlit) (5.0.3)\n",
            "Requirement already satisfied: entrypoints in /usr/local/lib/python3.10/dist-packages (from altair<6,>=4.0->streamlit) (0.4)\n",
            "Requirement already satisfied: jinja2 in /usr/local/lib/python3.10/dist-packages (from altair<6,>=4.0->streamlit) (3.1.4)\n",
            "Requirement already satisfied: jsonschema>=3.0 in /usr/local/lib/python3.10/dist-packages (from altair<6,>=4.0->streamlit) (4.23.0)\n",
            "Requirement already satisfied: toolz in /usr/local/lib/python3.10/dist-packages (from altair<6,>=4.0->streamlit) (0.12.1)\n",
            "Requirement already satisfied: gitdb<5,>=4.0.1 in /usr/local/lib/python3.10/dist-packages (from gitpython!=3.1.19,<4,>=3.0.7->streamlit) (4.0.11)\n",
            "Requirement already satisfied: python-dateutil>=2.8.2 in /usr/local/lib/python3.10/dist-packages (from pandas<3,>=1.4.0->streamlit) (2.8.2)\n",
            "Requirement already satisfied: pytz>=2020.1 in /usr/local/lib/python3.10/dist-packages (from pandas<3,>=1.4.0->streamlit) (2024.2)\n",
            "Requirement already satisfied: tzdata>=2022.7 in /usr/local/lib/python3.10/dist-packages (from pandas<3,>=1.4.0->streamlit) (2024.2)\n",
            "Requirement already satisfied: charset-normalizer<4,>=2 in /usr/local/lib/python3.10/dist-packages (from requests<3,>=2.27->streamlit) (3.4.0)\n",
            "Requirement already satisfied: idna<4,>=2.5 in /usr/local/lib/python3.10/dist-packages (from requests<3,>=2.27->streamlit) (3.10)\n",
            "Requirement already satisfied: urllib3<3,>=1.21.1 in /usr/local/lib/python3.10/dist-packages (from requests<3,>=2.27->streamlit) (2.2.3)\n",
            "Requirement already satisfied: certifi>=2017.4.17 in /usr/local/lib/python3.10/dist-packages (from requests<3,>=2.27->streamlit) (2024.8.30)\n",
            "Requirement already satisfied: markdown-it-py>=2.2.0 in /usr/local/lib/python3.10/dist-packages (from rich<14,>=10.14.0->streamlit) (3.0.0)\n",
            "Requirement already satisfied: pygments<3.0.0,>=2.13.0 in /usr/local/lib/python3.10/dist-packages (from rich<14,>=10.14.0->streamlit) (2.18.0)\n",
            "Requirement already satisfied: smmap<6,>=3.0.1 in /usr/local/lib/python3.10/dist-packages (from gitdb<5,>=4.0.1->gitpython!=3.1.19,<4,>=3.0.7->streamlit) (5.0.1)\n",
            "Requirement already satisfied: MarkupSafe>=2.0 in /usr/local/lib/python3.10/dist-packages (from jinja2->altair<6,>=4.0->streamlit) (3.0.2)\n",
            "Requirement already satisfied: attrs>=22.2.0 in /usr/local/lib/python3.10/dist-packages (from jsonschema>=3.0->altair<6,>=4.0->streamlit) (24.2.0)\n",
            "Requirement already satisfied: jsonschema-specifications>=2023.03.6 in /usr/local/lib/python3.10/dist-packages (from jsonschema>=3.0->altair<6,>=4.0->streamlit) (2024.10.1)\n",
            "Requirement already satisfied: referencing>=0.28.4 in /usr/local/lib/python3.10/dist-packages (from jsonschema>=3.0->altair<6,>=4.0->streamlit) (0.35.1)\n",
            "Requirement already satisfied: rpds-py>=0.7.1 in /usr/local/lib/python3.10/dist-packages (from jsonschema>=3.0->altair<6,>=4.0->streamlit) (0.20.0)\n",
            "Requirement already satisfied: mdurl~=0.1 in /usr/local/lib/python3.10/dist-packages (from markdown-it-py>=2.2.0->rich<14,>=10.14.0->streamlit) (0.1.2)\n",
            "Requirement already satisfied: six>=1.5 in /usr/local/lib/python3.10/dist-packages (from python-dateutil>=2.8.2->pandas<3,>=1.4.0->streamlit) (1.16.0)\n"
          ]
        }
      ]
    },
    {
      "cell_type": "code",
      "source": [
        "!pip install pyngrok\n"
      ],
      "metadata": {
        "colab": {
          "base_uri": "https://localhost:8080/"
        },
        "id": "CTiABNEq9qkk",
        "outputId": "b802cfd6-c15f-42c4-f736-954c677e7570"
      },
      "execution_count": 25,
      "outputs": [
        {
          "output_type": "stream",
          "name": "stdout",
          "text": [
            "Requirement already satisfied: pyngrok in /usr/local/lib/python3.10/dist-packages (7.2.1)\n",
            "Requirement already satisfied: PyYAML>=5.1 in /usr/local/lib/python3.10/dist-packages (from pyngrok) (6.0.2)\n"
          ]
        }
      ]
    },
    {
      "cell_type": "code",
      "source": [
        "from pyngrok import ngrok\n",
        "\n",
        "# Substitua 'SEU_AUTHTOKEN' pelo seu token do ngrok\n",
        "ngrok.set_auth_token (\"2oTssvHSufUmTNFucZNlowPfEKp_4PDaoQzZjp1eNGGid12gt\")\n"
      ],
      "metadata": {
        "id": "trTcJtFgxbhq"
      },
      "execution_count": 41,
      "outputs": []
    },
    {
      "cell_type": "code",
      "source": [
        "%%writefile app.py\n",
        "import streamlit as st\n",
        "\n"
      ],
      "metadata": {
        "colab": {
          "base_uri": "https://localhost:8080/"
        },
        "id": "RaB-nKIFyD_y",
        "outputId": "9e4e913f-c762-44f2-ae90-05fd47e5ccb4"
      },
      "execution_count": 42,
      "outputs": [
        {
          "output_type": "stream",
          "name": "stdout",
          "text": [
            "Overwriting app.py\n"
          ]
        }
      ]
    },
    {
      "cell_type": "code",
      "source": [
        "\n",
        "# Inicie o Streamlit em segundo plano\n",
        "!streamlit run visão_empresa_colab &>/dev/null &\n"
      ],
      "metadata": {
        "id": "mU2zoY659zwC"
      },
      "execution_count": 53,
      "outputs": []
    },
    {
      "cell_type": "code",
      "source": [
        "#só para verificar se atualiza o arquivo no Git\n",
        "print(\"Acesse seu app aqui:\", public_url)"
      ],
      "metadata": {
        "colab": {
          "base_uri": "https://localhost:8080/"
        },
        "id": "Dw4WfVQMc-Yn",
        "outputId": "e6c22f74-43bf-4f59-8400-c3851e119079"
      },
      "execution_count": 54,
      "outputs": [
        {
          "output_type": "stream",
          "name": "stdout",
          "text": [
            "Acesse seu app aqui: NgrokTunnel: \"https://8671-34-136-111-195.ngrok-free.app\" -> \"http://localhost:8501\"\n"
          ]
        }
      ]
    }
  ]
}